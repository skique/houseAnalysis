{
 "cells": [
  {
   "cell_type": "code",
   "execution_count": 1,
   "metadata": {},
   "outputs": [],
   "source": [
    "from bs4 import BeautifulSoup\n",
    "import requests\n",
    "import json\n",
    "import pandas as pd"
   ]
  },
  {
   "cell_type": "code",
   "execution_count": null,
   "metadata": {},
   "outputs": [],
   "source": [
    "url = \"https://hz.lianjia.com/ershoufang/\"\n",
    "page = requests.get(url)\n",
    "soup = BeautifulSoup(page.text, \"html.parser\")\n",
    "result = soup.find('div', {'data-role': 'ditiefang'})\n",
    "content = result.find_all('a')\n",
    "\n",
    "line_metro = {}             #储存每条地铁线对应的url  例： {一号线:url}\n",
    "line_name = []\n",
    "for items in content:\n",
    "    link = \"https://sh.lianjia.com\" + items['href']\n",
    "    line = items.text\n",
    "    line_metro[line] = link\n",
    "    line_name.append(line)\n",
    "\n",
    "metro_station = {}        #储存每个地铁站对应的url  例：{人民广场:url}\n",
    "line_station = {}\n",
    "for item in line_name:\n",
    "    url_line = line_metro[item]\n",
    "    page_line = requests.get(url_line)\n",
    "    soup_line = BeautifulSoup(page_line.text,\"html.parser\")\n",
    "    result_line = soup_line.find('div',{'data-role':'ditiefang'})\n",
    "    content = result_line.find_all('a')\n",
    "\n",
    "    for items in content:\n",
    "        link = items['href']\n",
    "        station = items.text\n",
    "        metro_station[station] = link\n",
    "        line_station[station] = item\n",
    "        if station in line_name:\n",
    "            metro_station.pop(station)\n",
    "        else:\n",
    "            pass"
   ]
  }
 ],
 "metadata": {
  "kernelspec": {
   "display_name": "Python 3",
   "language": "python",
   "name": "python3"
  },
  "language_info": {
   "codemirror_mode": {
    "name": "ipython",
    "version": 3
   },
   "file_extension": ".py",
   "mimetype": "text/x-python",
   "name": "python",
   "nbconvert_exporter": "python",
   "pygments_lexer": "ipython3",
   "version": "3.8.3"
  }
 },
 "nbformat": 4,
 "nbformat_minor": 4
}
